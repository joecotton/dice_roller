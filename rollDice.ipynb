{
 "cells": [
  {
   "cell_type": "code",
   "execution_count": 1,
   "metadata": {},
   "outputs": [],
   "source": [
    "from random import randrange"
   ]
  },
  {
   "cell_type": "code",
   "execution_count": 18,
   "metadata": {},
   "outputs": [],
   "source": [
    "class Dice(object):\n",
    "    roll_count = 0\n",
    "    rolls = {1:0, 2:0, 3:0, 4:0, 5:0, 6:0}\n",
    "    \n",
    "    def reset(self):\n",
    "      self.rolls = {1:0, 2:0, 3:0, 4:0, 5:0, 6:0}\n",
    "      self.roll_count = 0\n",
    "        \n",
    "    def rollOnce(self):\n",
    "        val = randrange(1,7)\n",
    "        if val in self.rolls:\n",
    "            self.rolls[val] += 1\n",
    "        self.roll_count += 1\n",
    "    \n",
    "    def rollMany(self, num_rolls):\n",
    "        for i in range(num_rolls):\n",
    "            self.rollOnce()\n",
    "    \n",
    "    def printResults(self):\n",
    "        print(f'Rolls: {self.roll_count}')\n",
    "        for (val, cnt) in self.rolls.items():\n",
    "            if self.roll_count > 0:\n",
    "                pct = round(cnt / self.roll_count * 100, 1)\n",
    "            else:\n",
    "                pct = \"-\"\n",
    "            print(f'Roll {val}: {cnt} ({pct}%)')\n",
    "    \n",
    "    def rollPrint(self, num_rolls):\n",
    "        self.rollMany(num_rolls)\n",
    "        self.printResults()\n",
    "\n",
    "dice = Dice()"
   ]
  },
  {
   "cell_type": "code",
   "execution_count": 19,
   "metadata": {},
   "outputs": [
    {
     "name": "stdout",
     "output_type": "stream",
     "text": [
      "Rolls: 10000\n",
      "Roll 1: 1615 (16.2%)\n",
      "Roll 2: 1686 (16.9%)\n",
      "Roll 3: 1698 (17.0%)\n",
      "Roll 4: 1690 (16.9%)\n",
      "Roll 5: 1647 (16.5%)\n",
      "Roll 6: 1664 (16.6%)\n"
     ]
    }
   ],
   "source": [
    "dice.rollPrint(10000)"
   ]
  },
  {
   "cell_type": "code",
   "execution_count": 20,
   "metadata": {},
   "outputs": [],
   "source": [
    "dice.reset()"
   ]
  },
  {
   "cell_type": "code",
   "execution_count": 21,
   "metadata": {},
   "outputs": [
    {
     "name": "stdout",
     "output_type": "stream",
     "text": [
      "Rolls: 100000\n",
      "Roll 1: 16599 (16.6%)\n",
      "Roll 2: 16732 (16.7%)\n",
      "Roll 3: 16607 (16.6%)\n",
      "Roll 4: 16580 (16.6%)\n",
      "Roll 5: 16703 (16.7%)\n",
      "Roll 6: 16779 (16.8%)\n"
     ]
    }
   ],
   "source": [
    "dice.rollPrint(100000)"
   ]
  },
  {
   "cell_type": "code",
   "execution_count": null,
   "metadata": {},
   "outputs": [],
   "source": []
  }
 ],
 "metadata": {
  "kernelspec": {
   "display_name": "Python 3",
   "language": "python",
   "name": "python3"
  },
  "language_info": {
   "codemirror_mode": {
    "name": "ipython",
    "version": 3
   },
   "file_extension": ".py",
   "mimetype": "text/x-python",
   "name": "python",
   "nbconvert_exporter": "python",
   "pygments_lexer": "ipython3",
   "version": "3.7.6"
  }
 },
 "nbformat": 4,
 "nbformat_minor": 4
}
